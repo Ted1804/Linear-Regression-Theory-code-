{
 "cells": [
  {
   "cell_type": "code",
   "execution_count": 37,
   "id": "52f11951",
   "metadata": {},
   "outputs": [
    {
     "data": {
      "image/png": "[encoded data removed]",
      "text/plain": [
       "<Figure size 432x288 with 1 Axes>"
      ]
     },
     "metadata": {
      "needs_background": "light"
     },
     "output_type": "display_data"
    },
    {
     "name": "stdout",
     "output_type": "stream",
     "text": [
      "[[147]\n",
      " [150]\n",
      " [153]\n",
      " [158]\n",
      " [163]\n",
      " [165]\n",
      " [168]\n",
      " [170]\n",
      " [173]\n",
      " [175]\n",
      " [178]\n",
      " [180]\n",
      " [183]]\n"
     ]
    }
   ],
   "source": [
    "from __future__ import print_function\n",
    "import numpy as np \n",
    "import matplotlib.pyplot as plt \n",
    "# Height\n",
    "X = np.array([[147, 150, 153, 158, 163, 165, 168, 170, 173, 175, 178,\n",
    "              180, 183]]).T \n",
    "# .T is the same as transpose \n",
    "# weight \n",
    "y = np.array([49, 50, 51, 54, 58, 59, 60, 62, 63, 64, 66, 67, 68])\n",
    "plt.plot(X, y, 'ro')\n",
    "plt.axis([140, 190, 45, 75])\n",
    "plt.xlabel('Height (cm)')\n",
    "plt.ylabel('Weight (kg)')\n",
    "plt.show()\n",
    "\n",
    "print(X)"
   ]
  },
  {
   "cell_type": "code",
   "execution_count": 48,
   "id": "84c9f07f",
   "metadata": {},
   "outputs": [],
   "source": [
    "# building Xbar \n",
    "one = np.ones((X.shape[0], 1))\n",
    "# Return array with shape and fill with 1 \n",
    "Xbar = np.concatenate((one, X), axis = 1)\n",
    "# Ham ghep\n",
    "# Calculate weights of the fitting line \n",
    "A = np.dot(Xbar.T, Xbar)\n",
    "b = np.dot(Xbar.T, y)\n",
    "w = np.dot(np.linalg.pinv(A), b)\n",
    "# '''    \n",
    "# Chú ý: giả nghịch đảo của một ma trận A trong Python\n",
    "# sẽ được tính bằng numpy.linalg.pinv(A).'''\n",
    "#weight \n",
    "\n",
    "w_0 = w[0]\n",
    "w_1 = w[1]\n",
    "\n",
    "x0 = np.linspace(145, 185, 2, endpoint = True)\n",
    "y0 = w_0 + w_1*x0\n",
    "\n"
   ]
  },
  {
   "cell_type": "code",
   "execution_count": 67,
   "id": "34e1e259",
   "metadata": {},
   "outputs": [
    {
     "name": "stdout",
     "output_type": "stream",
     "text": [
      "[[1.]\n",
      " [1.]\n",
      " [1.]\n",
      " [1.]\n",
      " [1.]\n",
      " [1.]\n",
      " [1.]\n",
      " [1.]\n",
      " [1.]\n",
      " [1.]\n",
      " [1.]\n",
      " [1.]\n",
      " [1.]]\n",
      "[[147]\n",
      " [150]\n",
      " [153]\n",
      " [158]\n",
      " [163]\n",
      " [165]\n",
      " [168]\n",
      " [170]\n",
      " [173]\n",
      " [175]\n",
      " [178]\n",
      " [180]\n",
      " [183]]\n"
     ]
    },
    {
     "data": {
      "text/plain": [
       "array([[  1., 147.],\n",
       "       [  1., 150.],\n",
       "       [  1., 153.],\n",
       "       [  1., 158.],\n",
       "       [  1., 163.],\n",
       "       [  1., 165.],\n",
       "       [  1., 168.],\n",
       "       [  1., 170.],\n",
       "       [  1., 173.],\n",
       "       [  1., 175.],\n",
       "       [  1., 178.],\n",
       "       [  1., 180.],\n",
       "       [  1., 183.]])"
      ]
     },
     "execution_count": 67,
     "metadata": {},
     "output_type": "execute_result"
    }
   ],
   "source": [
    "print(one)\n",
    "print(X)\n",
    "Xbar"
   ]
  },
  {
   "cell_type": "code",
   "execution_count": 52,
   "id": "93bc2851",
   "metadata": {},
   "outputs": [
    {
     "data": {
      "image/png": "[encoded data removed]",
      "text/plain": [
       "<Figure size 432x288 with 1 Axes>"
      ]
     },
     "metadata": {
      "needs_background": "light"
     },
     "output_type": "display_data"
    }
   ],
   "source": [
    "# Plot the graph \n",
    "plt.plot(X,y, 'ro')\n",
    "plt.plot(x0, y0)\n",
    "plt.axis([140, 190, 45, 75])\n",
    "plt.xlabel('Height (cm)')\n",
    "plt.ylabel('Weight (kg)')\n",
    "plt.tick_params(axis='both', color ='red', labelsize='14')"
   ]
  },
  {
   "cell_type": "code",
   "execution_count": 56,
   "id": "98ed7779",
   "metadata": {},
   "outputs": [
    {
     "name": "stdout",
     "output_type": "stream",
     "text": [
      "predicted value y1 with height 155cm, value y1 = 52.94kg\n"
     ]
    }
   ],
   "source": [
    "y1 = w_0 + w_1*155\n",
    "y1\n",
    "\n",
    "print('predicted value y1 with height 155cm, value y1 = %.2fkg' %(y1))"
   ]
  },
  {
   "cell_type": "markdown",
   "id": "09c63d4f",
   "metadata": {},
   "source": [
    "# Tim nghiem voi skicit-learn \n",
    "from sklearn import datasets, linear_model \n",
    "# fit the model by LR \n",
    "regr = linear_model.LinearRegression()\n",
    "regr.fit(X, y)\n",
    "\n",
    "print(\"scikit-learn's solution:  w_1 = \", regr.coef_[0], \"w_0 = \", regr.intercept_)\n",
    "print(\"scikit-learn's solution:  w_1 = \", w_1, \"w_0 = \", w_0)"
   ]
  },
  {
   "cell_type": "code",
   "execution_count": 60,
   "id": "6d8d1e91",
   "metadata": {},
   "outputs": [
    {
     "name": "stdout",
     "output_type": "stream",
     "text": [
      "scikit-learn's solution: w_1 =  0.5592049619396674 w_0 =  -33.73541020580774\n",
      "scikit-learn's solution: w_1 =  0.5592049619395709 w_0 =  -33.73541020578887\n"
     ]
    }
   ],
   "source": [
    "from sklearn import datasets, linear_model\n",
    "regr = linear_model.LinearRegression() \n",
    "regr.fit(X, y)\n",
    "print(\"scikit-learn's solution: w_1 = \", regr.coef_[0], \"w_0 = \", regr.intercept_)\n",
    "print(\"scikit-learn's solution: w_1 = \", w_1, \"w_0 = \", w_0)\n"
   ]
  },
  {
   "cell_type": "markdown",
   "id": "27dc9a0a",
   "metadata": {},
   "source": [
    "Linear Regression nhạy cảm với nhiễu nhỏ. Ví dụ như một bộ dữ liệu có 1 data point bị lỗi thì sẽ làm ảnh hưởng đến kết quả luôn \n"
   ]
  },
  {
   "cell_type": "code",
   "execution_count": 77,
   "id": "75da5c5f",
   "metadata": {},
   "outputs": [
    {
     "data": {
      "text/plain": [
       "Text(0, 0.5, 'Weight(kg)')"
      ]
     },
     "execution_count": 77,
     "metadata": {},
     "output_type": "execute_result"
    },
    {
     "data": {
      "image/png": "[encoded data removed]",
      "text/plain": [
       "<Figure size 432x288 with 1 Axes>"
      ]
     },
     "metadata": {
      "needs_background": "light"
     },
     "output_type": "display_data"
    }
   ],
   "source": [
    "# Input data\n",
    "X = np.array([[147, 150, 153, 158, 163, 165, 168, 170, 173, 175, 178,\n",
    "              180, 183]]).T\n",
    "y = np.array([49, 50, 51, 54, 58, 59, 60, 62, 63, 64, 80, 67, 68])\n",
    "\n",
    "\n",
    "# Building Xbar \n",
    "one = np.ones((X.shape[0], 1))\n",
    "Xbar = np.concatenate((one,X), axis = 1)\n",
    "A = np.dot(Xbar.T, Xbar)\n",
    "B = np.dot(Xbar.T, y)\n",
    "w = np.dot(np.linalg.pinv(A), B)\n",
    "\n",
    "w_0 = w[0]\n",
    "w_1 = w[1]\n",
    "\n",
    "x_0 = np.linspace(140,185, 2, endpoint = True)\n",
    "y_0 = w_1*x_0 + w_0\n",
    "plt.plot(X, y, 'ro')\n",
    "plt.plot(x_0, y_0)\n",
    "plt.axis([140,190, 45, 90])\n",
    "plt.xlabel('Height(cm)')\n",
    "plt.ylabel('Weight(kg)')"
   ]
  },
  {
   "cell_type": "code",
   "execution_count": 2,
   "id": "c553e37f",
   "metadata": {},
   "outputs": [],
   "source": [
    "from __future__ import division, print_function, unicode_literals \n",
    "import numpy as np \n",
    "import matplotlib \n",
    "import matplotlib.pyplot as plt \n",
    "np.random.seed(4)\n",
    "from sklearn import datasets, linear_model \n"
   ]
  },
  {
   "cell_type": "code",
   "execution_count": null,
   "id": "df8503f8",
   "metadata": {},
   "outputs": [],
   "source": [
    "N = 30 \n",
    "N_test = 20 \n",
    "X = np.random.rand(N, 1)*5 \n",
    "y = 3*(X - 2) * (X - 3)*(X-4) df"
   ]
  }
 ],
 "metadata": {
  "kernelspec": {
   "display_name": "Python 3 (ipykernel)",
   "language": "python",
   "name": "python3"
  },
  "language_info": {
   "codemirror_mode": {
    "name": "ipython",
    "version": 3
   },
   "file_extension": ".py",
   "mimetype": "text/x-python",
   "name": "python",
   "nbconvert_exporter": "python",
   "pygments_lexer": "ipython3",
   "version": "3.9.7"
  }
 },
 "nbformat": 4,
 "nbformat_minor": 5
}
